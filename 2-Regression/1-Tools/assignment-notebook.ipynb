{
 "cells": [
  {
   "cell_type": "code",
   "execution_count": 1,
   "metadata": {
    "collapsed": true
   },
   "outputs": [],
   "source": [
    "import matplotlib.pyplot as plt\n",
    "import numpy as np\n",
    "from sklearn import datasets, linear_model, model_selection"
   ]
  },
  {
   "cell_type": "code",
   "execution_count": 2,
   "outputs": [
    {
     "name": "stdout",
     "output_type": "stream",
     "text": [
      "(20, 3) (20, 3)\n",
      "X_train,X_test,y_train,y_test (13, 1) (7, 1) (13, 1) (7, 1)\n"
     ]
    },
    {
     "data": {
      "text/plain": "<Figure size 432x288 with 1 Axes>",
      "image/png": "[encoded data removed]"
     },
     "metadata": {
      "needs_background": "light"
     },
     "output_type": "display_data"
    }
   ],
   "source": [
    "X,y = datasets.load_linnerud(return_X_y=True)\n",
    "print(X.shape, y.shape)\n",
    "weight=0\n",
    "waistline=1\n",
    "pulse=2\n",
    "X_slice=X[:,np.newaxis,weight]\n",
    "y_slice=y[:,np.newaxis,weight]\n",
    "\n",
    "X_train,X_test,y_train,y_test=\\\n",
    "    model_selection.train_test_split(X_slice, y_slice,test_size=0.33)\n",
    "print('X_train,X_test,y_train,y_test',\n",
    "      X_train.shape,X_test.shape,y_train.shape,y_test.shape)\n",
    "\n",
    "model = linear_model.LinearRegression()\n",
    "model.fit(X_train,y_train)\n",
    "predict = model.predict(X_test)\n",
    "plt.scatter(X_test,y_test,color='blue')\n",
    "plt.plot(X_test,predict, color='green', linewidth=3)\n",
    "plt.show()"
   ],
   "metadata": {
    "collapsed": false,
    "pycharm": {
     "name": "#%%\n"
    }
   }
  }
 ],
 "metadata": {
  "kernelspec": {
   "display_name": "Python 3",
   "language": "python",
   "name": "python3"
  },
  "language_info": {
   "codemirror_mode": {
    "name": "ipython",
    "version": 2
   },
   "file_extension": ".py",
   "mimetype": "text/x-python",
   "name": "python",
   "nbconvert_exporter": "python",
   "pygments_lexer": "ipython2",
   "version": "2.7.6"
  }
 },
 "nbformat": 4,
 "nbformat_minor": 0
}