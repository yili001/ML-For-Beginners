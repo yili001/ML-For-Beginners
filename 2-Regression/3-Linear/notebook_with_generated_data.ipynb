{
 "cells": [
  {
   "cell_type": "code",
   "execution_count": 4,
   "metadata": {
    "collapsed": true
   },
   "outputs": [],
   "source": [
    "import pandas as pd\n",
    "import numpy as np\n",
    "import matplotlib.pyplot as plt\n",
    "from sklearn.preprocessing import PolynomialFeatures\n",
    "from sklearn.pipeline import make_pipeline\n",
    "from sklearn.linear_model import LinearRegression\n",
    "from sklearn.datasets import make_regression\n",
    "from sklearn.model_selection import train_test_split"
   ]
  },
  {
   "cell_type": "code",
   "execution_count": 5,
   "outputs": [
    {
     "name": "stdout",
     "output_type": "stream",
     "text": [
      "shape of y: (100,)\n"
     ]
    }
   ],
   "source": [
    "\n",
    "\"\"\"\n",
    "generate simple linear data use sklearn built-in generator.\n",
    "generate linear regression data\n",
    "noise: control the discrete of data\n",
    "n_features: the shape of X\n",
    "\"\"\"\n",
    "X, y = make_regression(n_samples=100,n_features=1,random_state=0,\n",
    "                       noise=10.0,bias=2.0)\n",
    "\n",
    "print('shape of y:', y.shape)"
   ],
   "metadata": {
    "collapsed": false,
    "pycharm": {
     "name": "#%%\n"
    }
   }
  },
  {
   "cell_type": "code",
   "execution_count": 6,
   "outputs": [
    {
     "name": "stdout",
     "output_type": "stream",
     "text": [
      "Accuracy: 0.9422547687768377\n"
     ]
    }
   ],
   "source": [
    "reshaped_y = y.reshape((y.shape[0],1))\n",
    "train_X,test_X, train_y, test_y =\\\n",
    "train_test_split(X, reshaped_y, test_size=0.2, random_state=0)\n",
    "\n",
    "linear_regression = LinearRegression()\n",
    "linear_regression.fit(train_X, train_y)\n",
    "predict = linear_regression.predict(test_X)\n",
    "\n",
    "score = linear_regression.score(train_X, train_y)\n",
    "print('Accuracy:', score)"
   ],
   "metadata": {
    "collapsed": false,
    "pycharm": {
     "name": "#%%\n"
    }
   }
  },
  {
   "cell_type": "code",
   "execution_count": 7,
   "outputs": [
    {
     "data": {
      "text/plain": "[<matplotlib.lines.Line2D at 0x7f57243b8470>]"
     },
     "execution_count": 7,
     "metadata": {},
     "output_type": "execute_result"
    },
    {
     "data": {
      "text/plain": "<Figure size 432x288 with 1 Axes>",
      "image/png": "[encoded data removed]"
     },
     "metadata": {
      "needs_background": "light"
     },
     "output_type": "display_data"
    }
   ],
   "source": [
    "plt.scatter(test_X, test_y,  color='black')\n",
    "plt.plot(test_X, predict, color='blue', linewidth=3)"
   ],
   "metadata": {
    "collapsed": false,
    "pycharm": {
     "name": "#%%\n"
    }
   }
  },
  {
   "cell_type": "code",
   "execution_count": 8,
   "outputs": [
    {
     "data": {
      "text/plain": "<Figure size 432x288 with 1 Axes>",
      "image/png": "[encoded data removed]"
     },
     "metadata": {
      "needs_background": "light"
     },
     "output_type": "display_data"
    },
    {
     "name": "stdout",
     "output_type": "stream",
     "text": [
      "Model Accuracy:  0.9423618281919504    0.9386346458965696\n"
     ]
    }
   ],
   "source": [
    "pipeline = make_pipeline(PolynomialFeatures(2), LinearRegression())\n",
    "pipeline.fit(np.array(train_X), train_y)\n",
    "p_pred=pipeline.predict(test_X)\n",
    "df = pd.DataFrame({'x': test_X[:,0], 'y': p_pred[:,0]})\n",
    "values = df.sort_values(by='x', inplace=True)\n",
    "\n",
    "points = pd.DataFrame(df).to_numpy()\n",
    "\n",
    "plt.plot(points[:, 0], points[:, 1],color=\"red\", linewidth=3)\n",
    "plt.xlabel('x')\n",
    "plt.ylabel('y')\n",
    "plt.scatter(X,y, color=\"black\")\n",
    "plt.show()\n",
    "\n",
    "accuracy_score_train = pipeline.score(train_X,train_y)\n",
    "accuracy_score_test = pipeline.score(test_X,test_y)\n",
    "print('Model Accuracy: ', accuracy_score_train, '  ', accuracy_score_test)"
   ],
   "metadata": {
    "collapsed": false,
    "pycharm": {
     "name": "#%%\n"
    }
   }
  }
 ],
 "metadata": {
  "kernelspec": {
   "name": "python3",
   "language": "python",
   "display_name": "Python 3"
  },
  "language_info": {
   "codemirror_mode": {
    "name": "ipython",
    "version": 2
   },
   "file_extension": ".py",
   "mimetype": "text/x-python",
   "name": "python",
   "nbconvert_exporter": "python",
   "pygments_lexer": "ipython2",
   "version": "2.7.6"
  }
 },
 "nbformat": 4,
 "nbformat_minor": 0
}