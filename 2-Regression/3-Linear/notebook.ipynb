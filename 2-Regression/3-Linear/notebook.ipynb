{
 "metadata": {
  "language_info": {
   "codemirror_mode": {
    "name": "ipython",
    "version": 3
   },
   "file_extension": ".py",
   "mimetype": "text/x-python",
   "name": "python",
   "nbconvert_exporter": "python",
   "pygments_lexer": "ipython3",
   "version": "3.8.3-final"
  },
  "orig_nbformat": 2,
  "kernelspec": {
   "name": "python3",
   "display_name": "Python 3",
   "language": "python"
  }
 },
 "nbformat": 4,
 "nbformat_minor": 2,
 "cells": [
  {
   "source": [
    "## Pumpkin Pricing\n",
    "\n",
    "Load up required libraries and dataset. Convert the data to a dataframe containing a subset of the data: \n",
    "\n",
    "- Only get pumpkins priced by the bushel\n",
    "- Convert the date to a month\n",
    "- Calculate the price to be an average of high and low prices\n",
    "- Convert the price to reflect the pricing by bushel quantity"
   ],
   "cell_type": "markdown",
   "metadata": {}
  },
  {
   "cell_type": "code",
   "execution_count": 1,
   "metadata": {},
   "outputs": [
    {
     "data": {
      "text/plain": "   City Name Type       Package      Variety Sub Variety  Grade     Date  \\\n0  BALTIMORE  NaN  24 inch bins          NaN         NaN    NaN  4/29/17   \n1  BALTIMORE  NaN  24 inch bins          NaN         NaN    NaN   5/6/17   \n2  BALTIMORE  NaN  24 inch bins  HOWDEN TYPE         NaN    NaN  9/24/16   \n3  BALTIMORE  NaN  24 inch bins  HOWDEN TYPE         NaN    NaN  9/24/16   \n4  BALTIMORE  NaN  24 inch bins  HOWDEN TYPE         NaN    NaN  11/5/16   \n\n   Low Price  High Price  Mostly Low  ...  Unit of Sale Quality Condition  \\\n0      270.0       280.0       270.0  ...           NaN     NaN       NaN   \n1      270.0       280.0       270.0  ...           NaN     NaN       NaN   \n2      160.0       160.0       160.0  ...           NaN     NaN       NaN   \n3      160.0       160.0       160.0  ...           NaN     NaN       NaN   \n4       90.0       100.0        90.0  ...           NaN     NaN       NaN   \n\n  Appearance Storage  Crop Repack  Trans Mode  Unnamed: 24  Unnamed: 25  \n0        NaN     NaN   NaN      E         NaN          NaN          NaN  \n1        NaN     NaN   NaN      E         NaN          NaN          NaN  \n2        NaN     NaN   NaN      N         NaN          NaN          NaN  \n3        NaN     NaN   NaN      N         NaN          NaN          NaN  \n4        NaN     NaN   NaN      N         NaN          NaN          NaN  \n\n[5 rows x 26 columns]",
      "text/html": "<div>\n<style scoped>\n    .dataframe tbody tr th:only-of-type {\n        vertical-align: middle;\n    }\n\n    .dataframe tbody tr th {\n        vertical-align: top;\n    }\n\n    .dataframe thead th {\n        text-align: right;\n    }\n</style>\n<table border=\"1\" class=\"dataframe\">\n  <thead>\n    <tr style=\"text-align: right;\">\n      <th></th>\n      <th>City Name</th>\n      <th>Type</th>\n      <th>Package</th>\n      <th>Variety</th>\n      <th>Sub Variety</th>\n      <th>Grade</th>\n      <th>Date</th>\n      <th>Low Price</th>\n      <th>High Price</th>\n      <th>Mostly Low</th>\n      <th>...</th>\n      <th>Unit of Sale</th>\n      <th>Quality</th>\n      <th>Condition</th>\n      <th>Appearance</th>\n      <th>Storage</th>\n      <th>Crop</th>\n      <th>Repack</th>\n      <th>Trans Mode</th>\n      <th>Unnamed: 24</th>\n      <th>Unnamed: 25</th>\n    </tr>\n  </thead>\n  <tbody>\n    <tr>\n      <th>0</th>\n      <td>BALTIMORE</td>\n      <td>NaN</td>\n      <td>24 inch bins</td>\n      <td>NaN</td>\n      <td>NaN</td>\n      <td>NaN</td>\n      <td>4/29/17</td>\n      <td>270.0</td>\n      <td>280.0</td>\n      <td>270.0</td>\n      <td>...</td>\n      <td>NaN</td>\n      <td>NaN</td>\n      <td>NaN</td>\n      <td>NaN</td>\n      <td>NaN</td>\n      <td>NaN</td>\n      <td>E</td>\n      <td>NaN</td>\n      <td>NaN</td>\n      <td>NaN</td>\n    </tr>\n    <tr>\n      <th>1</th>\n      <td>BALTIMORE</td>\n      <td>NaN</td>\n      <td>24 inch bins</td>\n      <td>NaN</td>\n      <td>NaN</td>\n      <td>NaN</td>\n      <td>5/6/17</td>\n      <td>270.0</td>\n      <td>280.0</td>\n      <td>270.0</td>\n      <td>...</td>\n      <td>NaN</td>\n      <td>NaN</td>\n      <td>NaN</td>\n      <td>NaN</td>\n      <td>NaN</td>\n      <td>NaN</td>\n      <td>E</td>\n      <td>NaN</td>\n      <td>NaN</td>\n      <td>NaN</td>\n    </tr>\n    <tr>\n      <th>2</th>\n      <td>BALTIMORE</td>\n      <td>NaN</td>\n      <td>24 inch bins</td>\n      <td>HOWDEN TYPE</td>\n      <td>NaN</td>\n      <td>NaN</td>\n      <td>9/24/16</td>\n      <td>160.0</td>\n      <td>160.0</td>\n      <td>160.0</td>\n      <td>...</td>\n      <td>NaN</td>\n      <td>NaN</td>\n      <td>NaN</td>\n      <td>NaN</td>\n      <td>NaN</td>\n      <td>NaN</td>\n      <td>N</td>\n      <td>NaN</td>\n      <td>NaN</td>\n      <td>NaN</td>\n    </tr>\n    <tr>\n      <th>3</th>\n      <td>BALTIMORE</td>\n      <td>NaN</td>\n      <td>24 inch bins</td>\n      <td>HOWDEN TYPE</td>\n      <td>NaN</td>\n      <td>NaN</td>\n      <td>9/24/16</td>\n      <td>160.0</td>\n      <td>160.0</td>\n      <td>160.0</td>\n      <td>...</td>\n      <td>NaN</td>\n      <td>NaN</td>\n      <td>NaN</td>\n      <td>NaN</td>\n      <td>NaN</td>\n      <td>NaN</td>\n      <td>N</td>\n      <td>NaN</td>\n      <td>NaN</td>\n      <td>NaN</td>\n    </tr>\n    <tr>\n      <th>4</th>\n      <td>BALTIMORE</td>\n      <td>NaN</td>\n      <td>24 inch bins</td>\n      <td>HOWDEN TYPE</td>\n      <td>NaN</td>\n      <td>NaN</td>\n      <td>11/5/16</td>\n      <td>90.0</td>\n      <td>100.0</td>\n      <td>90.0</td>\n      <td>...</td>\n      <td>NaN</td>\n      <td>NaN</td>\n      <td>NaN</td>\n      <td>NaN</td>\n      <td>NaN</td>\n      <td>NaN</td>\n      <td>N</td>\n      <td>NaN</td>\n      <td>NaN</td>\n      <td>NaN</td>\n    </tr>\n  </tbody>\n</table>\n<p>5 rows × 26 columns</p>\n</div>"
     },
     "execution_count": 1,
     "metadata": {},
     "output_type": "execute_result"
    }
   ],
   "source": [
    "import pandas as pd\n",
    "import matplotlib.pyplot as plt\n",
    "import numpy as np\n",
    "\n",
    "pumpkins = pd.read_csv('../data/US-pumpkins.csv')\n",
    "\n",
    "pumpkins.head()\n"
   ]
  },
  {
   "cell_type": "code",
   "execution_count": 2,
   "metadata": {},
   "outputs": [
    {
     "data": {
      "text/plain": "    Month   Variety       City               Package  Low Price  High Price  \\\n70      9  PIE TYPE  BALTIMORE  1 1/9 bushel cartons       15.0        15.0   \n71      9  PIE TYPE  BALTIMORE  1 1/9 bushel cartons       18.0        18.0   \n72     10  PIE TYPE  BALTIMORE  1 1/9 bushel cartons       18.0        18.0   \n73     10  PIE TYPE  BALTIMORE  1 1/9 bushel cartons       17.0        17.0   \n74     10  PIE TYPE  BALTIMORE  1 1/9 bushel cartons       15.0        15.0   \n\n        Price  \n70  13.636364  \n71  16.363636  \n72  16.363636  \n73  15.454545  \n74  13.636364  ",
      "text/html": "<div>\n<style scoped>\n    .dataframe tbody tr th:only-of-type {\n        vertical-align: middle;\n    }\n\n    .dataframe tbody tr th {\n        vertical-align: top;\n    }\n\n    .dataframe thead th {\n        text-align: right;\n    }\n</style>\n<table border=\"1\" class=\"dataframe\">\n  <thead>\n    <tr style=\"text-align: right;\">\n      <th></th>\n      <th>Month</th>\n      <th>Variety</th>\n      <th>City</th>\n      <th>Package</th>\n      <th>Low Price</th>\n      <th>High Price</th>\n      <th>Price</th>\n    </tr>\n  </thead>\n  <tbody>\n    <tr>\n      <th>70</th>\n      <td>9</td>\n      <td>PIE TYPE</td>\n      <td>BALTIMORE</td>\n      <td>1 1/9 bushel cartons</td>\n      <td>15.0</td>\n      <td>15.0</td>\n      <td>13.636364</td>\n    </tr>\n    <tr>\n      <th>71</th>\n      <td>9</td>\n      <td>PIE TYPE</td>\n      <td>BALTIMORE</td>\n      <td>1 1/9 bushel cartons</td>\n      <td>18.0</td>\n      <td>18.0</td>\n      <td>16.363636</td>\n    </tr>\n    <tr>\n      <th>72</th>\n      <td>10</td>\n      <td>PIE TYPE</td>\n      <td>BALTIMORE</td>\n      <td>1 1/9 bushel cartons</td>\n      <td>18.0</td>\n      <td>18.0</td>\n      <td>16.363636</td>\n    </tr>\n    <tr>\n      <th>73</th>\n      <td>10</td>\n      <td>PIE TYPE</td>\n      <td>BALTIMORE</td>\n      <td>1 1/9 bushel cartons</td>\n      <td>17.0</td>\n      <td>17.0</td>\n      <td>15.454545</td>\n    </tr>\n    <tr>\n      <th>74</th>\n      <td>10</td>\n      <td>PIE TYPE</td>\n      <td>BALTIMORE</td>\n      <td>1 1/9 bushel cartons</td>\n      <td>15.0</td>\n      <td>15.0</td>\n      <td>13.636364</td>\n    </tr>\n  </tbody>\n</table>\n</div>"
     },
     "execution_count": 2,
     "metadata": {},
     "output_type": "execute_result"
    }
   ],
   "source": [
    "\n",
    "pumpkins = pumpkins[pumpkins['Package'].str.contains('bushel', case=True, regex=True)]\n",
    "\n",
    "new_columns = ['Package', 'Variety', 'City Name', 'Month', 'Low Price', 'High Price', 'Date', 'City Num', 'Variety Num']\n",
    "\n",
    "\n",
    "pumpkins = pumpkins.drop([c for c in pumpkins.columns if c not in new_columns], axis=1)\n",
    "\n",
    "price = (pumpkins['Low Price'] + pumpkins['High Price']) / 2\n",
    "\n",
    "month = pd.DatetimeIndex(pumpkins['Date']).month\n",
    "\n",
    "\n",
    "new_pumpkins = pd.DataFrame({'Month': month, 'Variety': pumpkins['Variety'], 'City': pumpkins['City Name'], 'Package': pumpkins['Package'], 'Low Price': pumpkins['Low Price'],'High Price': pumpkins['High Price'], 'Price': price})\n",
    "\n",
    "new_pumpkins.loc[new_pumpkins['Package'].str.contains('1 1/9'), 'Price'] = price/1.1\n",
    "\n",
    "new_pumpkins.loc[new_pumpkins['Package'].str.contains('1/2'), 'Price'] = price*2\n",
    "\n",
    "new_pumpkins.head()\n"
   ]
  },
  {
   "source": [
    "A basic scatterplot reminds us that we only have month data from August through December. We probably need more data to be able to draw conclusions in a linear fashion."
   ],
   "cell_type": "markdown",
   "metadata": {}
  },
  {
   "cell_type": "code",
   "execution_count": 3,
   "metadata": {},
   "outputs": [
    {
     "data": {
      "text/plain": "<matplotlib.collections.PathCollection at 0x7fe66928ec50>"
     },
     "execution_count": 3,
     "metadata": {},
     "output_type": "execute_result"
    },
    {
     "data": {
      "text/plain": "<Figure size 432x288 with 1 Axes>",
      "image/png": "[encoded data removed]"
     },
     "metadata": {
      "needs_background": "light"
     },
     "output_type": "display_data"
    }
   ],
   "source": [
    "import matplotlib.pyplot as plt\n",
    "plt.scatter('Month','Price',data=new_pumpkins)"
   ]
  },
  {
   "cell_type": "code",
   "execution_count": 4,
   "metadata": {},
   "outputs": [
    {
     "name": "stdout",
     "output_type": "stream",
     "text": [
      "<class 'pandas.core.frame.DataFrame'>\n",
      "Int64Index: 415 entries, 70 to 1742\n",
      "Data columns (total 7 columns):\n",
      " #   Column      Non-Null Count  Dtype  \n",
      "---  ------      --------------  -----  \n",
      " 0   Month       415 non-null    int64  \n",
      " 1   Variety     415 non-null    int64  \n",
      " 2   City        415 non-null    int64  \n",
      " 3   Package     415 non-null    int64  \n",
      " 4   Low Price   415 non-null    int64  \n",
      " 5   High Price  415 non-null    int64  \n",
      " 6   Price       415 non-null    float64\n",
      "dtypes: float64(1), int64(6)\n",
      "memory usage: 45.9 KB\n",
      "<class 'pandas.core.frame.DataFrame'>\n",
      "Int64Index: 415 entries, 70 to 1742\n",
      "Data columns (total 7 columns):\n",
      " #   Column      Non-Null Count  Dtype  \n",
      "---  ------      --------------  -----  \n",
      " 0   Month       415 non-null    int64  \n",
      " 1   Variety     415 non-null    int64  \n",
      " 2   City        415 non-null    int64  \n",
      " 3   Package     415 non-null    int64  \n",
      " 4   Low Price   415 non-null    int64  \n",
      " 5   High Price  415 non-null    int64  \n",
      " 6   Price       415 non-null    float64\n",
      "dtypes: float64(1), int64(6)\n",
      "memory usage: 25.9 KB\n"
     ]
    }
   ],
   "source": [
    "from sklearn.preprocessing import LabelEncoder\n",
    "\n",
    "new_pumpkins.iloc[:, 0:-1] = new_pumpkins.iloc[:, 0:-1].apply(LabelEncoder().fit_transform)\n",
    "\n",
    "new_pumpkins.info()\n",
    "new_pumpkins.dropna(inplace=True)\n",
    "new_pumpkins.info()"
   ]
  },
  {
   "cell_type": "code",
   "execution_count": 5,
   "outputs": [],
   "source": [
    "new_columns = ['Package', 'Price']\n",
    "lin_pumpkins = new_pumpkins.drop([c for c in new_pumpkins.columns if c not in new_columns], axis='columns')\n",
    "\n",
    "X = lin_pumpkins.values[:, :1]\n",
    "y = lin_pumpkins.values[:, 1:2]"
   ],
   "metadata": {
    "collapsed": false,
    "pycharm": {
     "name": "#%%\n"
    }
   }
  },
  {
   "cell_type": "code",
   "execution_count": 6,
   "outputs": [
    {
     "name": "stdout",
     "output_type": "stream",
     "text": [
      "Accuracy: 0.3315342327998989\n"
     ]
    }
   ],
   "source": [
    "from sklearn.linear_model import LinearRegression\n",
    "from sklearn.model_selection import train_test_split\n",
    "\n",
    "train_X,test_X, train_y, test_y =\\\n",
    "    train_test_split(X, y, test_size=0.2, random_state=0)\n",
    "linear_regression = LinearRegression()\n",
    "linear_regression.fit(train_X, train_y)\n",
    "predict = linear_regression.predict(test_X)\n",
    "\n",
    "score = linear_regression.score(train_X, train_y)\n",
    "print('Accuracy:', score)"
   ],
   "metadata": {
    "collapsed": false,
    "pycharm": {
     "name": "#%%\n"
    }
   }
  },
  {
   "cell_type": "code",
   "execution_count": 7,
   "outputs": [
    {
     "data": {
      "text/plain": "<Figure size 432x288 with 1 Axes>",
      "image/png": "[encoded data removed]"
     },
     "metadata": {
      "needs_background": "light"
     },
     "output_type": "display_data"
    }
   ],
   "source": [
    "plt.scatter(test_X, test_y,  color='black')\n",
    "plt.plot(test_X, predict, color='blue', linewidth=3)\n",
    "\n",
    "plt.xlabel('Package')\n",
    "plt.ylabel('Price')\n",
    "\n",
    "raw_arr = [[4],[5]]\n",
    "np_arr = np.array(raw_arr)\n",
    "custom_predict = linear_regression.predict(np_arr)"
   ],
   "metadata": {
    "collapsed": false,
    "pycharm": {
     "name": "#%%\n"
    }
   }
  },
  {
   "cell_type": "code",
   "execution_count": 8,
   "outputs": [
    {
     "data": {
      "text/plain": "<pandas.io.formats.style.Styler at 0x7fe65e93b2b0>",
      "text/html": "<style  type=\"text/css\" >\n#T_4a59e4d8_17bc_11ec_ac76_2df32c8a229frow0_col0,#T_4a59e4d8_17bc_11ec_ac76_2df32c8a229frow1_col1,#T_4a59e4d8_17bc_11ec_ac76_2df32c8a229frow2_col2,#T_4a59e4d8_17bc_11ec_ac76_2df32c8a229frow3_col3,#T_4a59e4d8_17bc_11ec_ac76_2df32c8a229frow4_col4{\n            background-color:  #b40426;\n            color:  #f1f1f1;\n        }#T_4a59e4d8_17bc_11ec_ac76_2df32c8a229frow0_col1{\n            background-color:  #ead4c8;\n            color:  #000000;\n        }#T_4a59e4d8_17bc_11ec_ac76_2df32c8a229frow0_col2{\n            background-color:  #4961d2;\n            color:  #f1f1f1;\n        }#T_4a59e4d8_17bc_11ec_ac76_2df32c8a229frow0_col3{\n            background-color:  #9bbcff;\n            color:  #000000;\n        }#T_4a59e4d8_17bc_11ec_ac76_2df32c8a229frow0_col4{\n            background-color:  #bbd1f8;\n            color:  #000000;\n        }#T_4a59e4d8_17bc_11ec_ac76_2df32c8a229frow1_col0{\n            background-color:  #9fbfff;\n            color:  #000000;\n        }#T_4a59e4d8_17bc_11ec_ac76_2df32c8a229frow1_col2,#T_4a59e4d8_17bc_11ec_ac76_2df32c8a229frow1_col3,#T_4a59e4d8_17bc_11ec_ac76_2df32c8a229frow1_col4,#T_4a59e4d8_17bc_11ec_ac76_2df32c8a229frow2_col0,#T_4a59e4d8_17bc_11ec_ac76_2df32c8a229frow4_col1{\n            background-color:  #3b4cc0;\n            color:  #f1f1f1;\n        }#T_4a59e4d8_17bc_11ec_ac76_2df32c8a229frow2_col1{\n            background-color:  #a9c6fd;\n            color:  #000000;\n        }#T_4a59e4d8_17bc_11ec_ac76_2df32c8a229frow2_col3{\n            background-color:  #edd2c3;\n            color:  #000000;\n        }#T_4a59e4d8_17bc_11ec_ac76_2df32c8a229frow2_col4{\n            background-color:  #f5c0a7;\n            color:  #000000;\n        }#T_4a59e4d8_17bc_11ec_ac76_2df32c8a229frow3_col0{\n            background-color:  #455cce;\n            color:  #f1f1f1;\n        }#T_4a59e4d8_17bc_11ec_ac76_2df32c8a229frow3_col1{\n            background-color:  #6485ec;\n            color:  #000000;\n        }#T_4a59e4d8_17bc_11ec_ac76_2df32c8a229frow3_col2{\n            background-color:  #ccd9ed;\n            color:  #000000;\n        }#T_4a59e4d8_17bc_11ec_ac76_2df32c8a229frow3_col4{\n            background-color:  #f08a6c;\n            color:  #000000;\n        }#T_4a59e4d8_17bc_11ec_ac76_2df32c8a229frow4_col0{\n            background-color:  #445acc;\n            color:  #f1f1f1;\n        }#T_4a59e4d8_17bc_11ec_ac76_2df32c8a229frow4_col2{\n            background-color:  #d2dbe8;\n            color:  #000000;\n        }#T_4a59e4d8_17bc_11ec_ac76_2df32c8a229frow4_col3{\n            background-color:  #f39778;\n            color:  #000000;\n        }</style><table id=\"T_4a59e4d8_17bc_11ec_ac76_2df32c8a229f\" ><thead>    <tr>        <th class=\"blank level0\" ></th>        <th class=\"col_heading level0 col0\" >Month</th>        <th class=\"col_heading level0 col1\" >Variety</th>        <th class=\"col_heading level0 col2\" >City</th>        <th class=\"col_heading level0 col3\" >Package</th>        <th class=\"col_heading level0 col4\" >Price</th>    </tr></thead><tbody>\n                <tr>\n                        <th id=\"T_4a59e4d8_17bc_11ec_ac76_2df32c8a229flevel0_row0\" class=\"row_heading level0 row0\" >Month</th>\n                        <td id=\"T_4a59e4d8_17bc_11ec_ac76_2df32c8a229frow0_col0\" class=\"data row0 col0\" >1.000000</td>\n                        <td id=\"T_4a59e4d8_17bc_11ec_ac76_2df32c8a229frow0_col1\" class=\"data row0 col1\" >0.171330</td>\n                        <td id=\"T_4a59e4d8_17bc_11ec_ac76_2df32c8a229frow0_col2\" class=\"data row0 col2\" >-0.188728</td>\n                        <td id=\"T_4a59e4d8_17bc_11ec_ac76_2df32c8a229frow0_col3\" class=\"data row0 col3\" >-0.144847</td>\n                        <td id=\"T_4a59e4d8_17bc_11ec_ac76_2df32c8a229frow0_col4\" class=\"data row0 col4\" >-0.148783</td>\n            </tr>\n            <tr>\n                        <th id=\"T_4a59e4d8_17bc_11ec_ac76_2df32c8a229flevel0_row1\" class=\"row_heading level0 row1\" >Variety</th>\n                        <td id=\"T_4a59e4d8_17bc_11ec_ac76_2df32c8a229frow1_col0\" class=\"data row1 col0\" >0.171330</td>\n                        <td id=\"T_4a59e4d8_17bc_11ec_ac76_2df32c8a229frow1_col1\" class=\"data row1 col1\" >1.000000</td>\n                        <td id=\"T_4a59e4d8_17bc_11ec_ac76_2df32c8a229frow1_col2\" class=\"data row1 col2\" >-0.248441</td>\n                        <td id=\"T_4a59e4d8_17bc_11ec_ac76_2df32c8a229frow1_col3\" class=\"data row1 col3\" >-0.614855</td>\n                        <td id=\"T_4a59e4d8_17bc_11ec_ac76_2df32c8a229frow1_col4\" class=\"data row1 col4\" >-0.863479</td>\n            </tr>\n            <tr>\n                        <th id=\"T_4a59e4d8_17bc_11ec_ac76_2df32c8a229flevel0_row2\" class=\"row_heading level0 row2\" >City</th>\n                        <td id=\"T_4a59e4d8_17bc_11ec_ac76_2df32c8a229frow2_col0\" class=\"data row2 col0\" >-0.188728</td>\n                        <td id=\"T_4a59e4d8_17bc_11ec_ac76_2df32c8a229frow2_col1\" class=\"data row2 col1\" >-0.248441</td>\n                        <td id=\"T_4a59e4d8_17bc_11ec_ac76_2df32c8a229frow2_col2\" class=\"data row2 col2\" >1.000000</td>\n                        <td id=\"T_4a59e4d8_17bc_11ec_ac76_2df32c8a229frow2_col3\" class=\"data row2 col3\" >0.301604</td>\n                        <td id=\"T_4a59e4d8_17bc_11ec_ac76_2df32c8a229frow2_col4\" class=\"data row2 col4\" >0.323640</td>\n            </tr>\n            <tr>\n                        <th id=\"T_4a59e4d8_17bc_11ec_ac76_2df32c8a229flevel0_row3\" class=\"row_heading level0 row3\" >Package</th>\n                        <td id=\"T_4a59e4d8_17bc_11ec_ac76_2df32c8a229frow3_col0\" class=\"data row3 col0\" >-0.144847</td>\n                        <td id=\"T_4a59e4d8_17bc_11ec_ac76_2df32c8a229frow3_col1\" class=\"data row3 col1\" >-0.614855</td>\n                        <td id=\"T_4a59e4d8_17bc_11ec_ac76_2df32c8a229frow3_col2\" class=\"data row3 col2\" >0.301604</td>\n                        <td id=\"T_4a59e4d8_17bc_11ec_ac76_2df32c8a229frow3_col3\" class=\"data row3 col3\" >1.000000</td>\n                        <td id=\"T_4a59e4d8_17bc_11ec_ac76_2df32c8a229frow3_col4\" class=\"data row3 col4\" >0.606171</td>\n            </tr>\n            <tr>\n                        <th id=\"T_4a59e4d8_17bc_11ec_ac76_2df32c8a229flevel0_row4\" class=\"row_heading level0 row4\" >Price</th>\n                        <td id=\"T_4a59e4d8_17bc_11ec_ac76_2df32c8a229frow4_col0\" class=\"data row4 col0\" >-0.148783</td>\n                        <td id=\"T_4a59e4d8_17bc_11ec_ac76_2df32c8a229frow4_col1\" class=\"data row4 col1\" >-0.863479</td>\n                        <td id=\"T_4a59e4d8_17bc_11ec_ac76_2df32c8a229frow4_col2\" class=\"data row4 col2\" >0.323640</td>\n                        <td id=\"T_4a59e4d8_17bc_11ec_ac76_2df32c8a229frow4_col3\" class=\"data row4 col3\" >0.606171</td>\n                        <td id=\"T_4a59e4d8_17bc_11ec_ac76_2df32c8a229frow4_col4\" class=\"data row4 col4\" >1.000000</td>\n            </tr>\n    </tbody></table>"
     },
     "execution_count": 8,
     "metadata": {},
     "output_type": "execute_result"
    }
   ],
   "source": [
    "new_columns = ['Variety', 'Package', 'City', 'Month', 'Price']\n",
    "poly_pumpkins = new_pumpkins.drop([c for c in new_pumpkins.columns if c not in new_columns], axis='columns')\n",
    "corr = poly_pumpkins.corr()\n",
    "corr.style.background_gradient(cmap='coolwarm')"
   ],
   "metadata": {
    "collapsed": false,
    "pycharm": {
     "name": "#%%\n"
    }
   }
  },
  {
   "cell_type": "code",
   "execution_count": 9,
   "outputs": [
    {
     "data": {
      "text/plain": "<Figure size 432x288 with 1 Axes>",
      "image/png": "[encoded data removed]"
     },
     "metadata": {
      "needs_background": "light"
     },
     "output_type": "display_data"
    },
    {
     "name": "stdout",
     "output_type": "stream",
     "text": [
      "Model Accuracy:  0.8537946517073784\n",
      "Model Accuracy:  0.8744883218018493\n"
     ]
    },
    {
     "data": {
      "text/plain": "array([[46.34509342]])"
     },
     "execution_count": 9,
     "metadata": {},
     "output_type": "execute_result"
    }
   ],
   "source": [
    "X=poly_pumpkins.iloc[:,3:4].values\n",
    "y=poly_pumpkins.iloc[:,4:5].values\n",
    "\n",
    "from sklearn.preprocessing import PolynomialFeatures\n",
    "from sklearn.pipeline import make_pipeline\n",
    "\n",
    "#the pattern of how to use a Polynomial regression\n",
    "# 1.normalize the data\n",
    "# 2.PolynomialFeatures TODO: the degree of PolynomialFeatures\n",
    "# 3.LinearRegression\n",
    "pipeline = make_pipeline(PolynomialFeatures(4), LinearRegression())\n",
    "\n",
    "X_train, X_test, y_train, y_test = train_test_split(X, y, test_size=0.2, random_state=0)\n",
    "\n",
    "pipeline.fit(np.array(X_train), y_train)\n",
    "\n",
    "y_pred=pipeline.predict(X_test)\n",
    "\n",
    "\n",
    "df = pd.DataFrame({'x': X_test[:,0], 'y': y_pred[:,0]})\n",
    "# sort the x to create a smooth line????\n",
    "# set inplace=True to set the modification to original DataFrame\n",
    "# instead of set the changes to a copy then return it,\n",
    "# set inplace=True makes it return None, if inplace=False, it will return a modified DataFrame\n",
    "values = df.sort_values(by='x', inplace=True)\n",
    "points = pd.DataFrame(df).to_numpy()\n",
    "\n",
    "plt.plot(points[:, 0], points[:, 1],color=\"blue\", linewidth=3)\n",
    "plt.xlabel('Package')\n",
    "plt.ylabel('Price')\n",
    "plt.scatter(X,y, color=\"black\")\n",
    "plt.show()\n",
    "\n",
    "accuracy_score = pipeline.score(X_train,y_train)\n",
    "accuracy_score_test = pipeline.score(X_test,y_test)\n",
    "print('Model Accuracy: ', accuracy_score)\n",
    "print('Model Accuracy: ', accuracy_score_test)\n",
    "pipeline.predict( np.array([ [2.75] ]) )"
   ],
   "metadata": {
    "collapsed": false,
    "pycharm": {
     "name": "#%%\n"
    }
   }
  }
 ]
}