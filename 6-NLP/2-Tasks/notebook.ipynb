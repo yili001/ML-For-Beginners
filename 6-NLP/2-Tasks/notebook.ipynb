{
 "cells": [
  {
   "cell_type": "code",
   "execution_count": 1,
   "metadata": {
    "collapsed": true
   },
   "outputs": [],
   "source": [
    "from textblob import TextBlob\n",
    "from textblob.np_extractors import ConllExtractor"
   ]
  },
  {
   "cell_type": "code",
   "execution_count": 2,
   "outputs": [
    {
     "name": "stdout",
     "output_type": "stream",
     "text": [
      "phased:  ['old hounddog']\n"
     ]
    }
   ],
   "source": [
    "#noun phrase extractor\n",
    "extractor = ConllExtractor()\n",
    "# user_input = 'one of my friends is dead last week.'\n",
    "user_input = 'I have an old hounddog but he is sick'\n",
    "# user_input = 'I am ok'\n",
    "# user_input='I went for a walk and saw a lovely cat'\n",
    "# user_input = 'cats are the best. But I also have a cool dog'\n",
    "# ----following lines to download extra packages.--\n",
    "# import nltk\n",
    "# nltk.set_proxy('http://192.168.43.78:10809')\n",
    "# nltk.download()\n",
    "user_input_blob = TextBlob(user_input, np_extractor=extractor)  # note non-default extractor specified\n",
    "np = user_input_blob.noun_phrases\n",
    "#print extracted noun phrases\n",
    "print('phased: ',str(np))"
   ],
   "metadata": {
    "collapsed": false,
    "pycharm": {
     "name": "#%%\n"
    }
   }
  },
  {
   "cell_type": "markdown",
   "source": [
    "Sentiment analysis: analyzes a phrase for positivity or negativity"
   ],
   "metadata": {
    "collapsed": false,
    "pycharm": {
     "name": "#%% md\n"
    }
   }
  },
  {
   "cell_type": "code",
   "execution_count": 4,
   "outputs": [
    {
     "name": "stdout",
     "output_type": "stream",
     "text": [
      "polarity score: -0.30714285714285716\n",
      "subjectivity score: 0.5285714285714286\n"
     ]
    }
   ],
   "source": [
    "#polarity: have something to do with the tone of statement\n",
    "# >=-1, <= -0.5 bad;>-0.5,<= 0 not great; >0,<= 0.5 positive; >0.5,<= 1 great\n",
    "#polarity score: -0.30714285714285716 'I have an old hounddog but he is sick'\n",
    "#polarity score: 0.5 'I went for a walk and saw a lovely cat'\n",
    "#polarity score: 0.675 'cats are the best. But I also have a cool dog'\n",
    "print('polarity score:',user_input_blob.polarity)\n",
    "# [0.0, 1.0] where 0.0 is very objective and 1.0 is very subjective\n",
    "print('subjectivity score:',user_input_blob.subjectivity)\n"
   ],
   "metadata": {
    "collapsed": false,
    "pycharm": {
     "name": "#%%\n"
    }
   }
  }
 ],
 "metadata": {
  "kernelspec": {
   "display_name": "Python 3",
   "language": "python",
   "name": "python3"
  },
  "language_info": {
   "codemirror_mode": {
    "name": "ipython",
    "version": 2
   },
   "file_extension": ".py",
   "mimetype": "text/x-python",
   "name": "python",
   "nbconvert_exporter": "python",
   "pygments_lexer": "ipython2",
   "version": "2.7.6"
  }
 },
 "nbformat": 4,
 "nbformat_minor": 0
}