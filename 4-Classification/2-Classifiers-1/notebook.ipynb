{
 "metadata": {
  "language_info": {
   "codemirror_mode": {
    "name": "ipython",
    "version": 3
   },
   "file_extension": ".py",
   "mimetype": "text/x-python",
   "name": "python",
   "nbconvert_exporter": "python",
   "pygments_lexer": "ipython3",
   "version": 3
  },
  "orig_nbformat": 2,
  "kernelspec": {
   "name": "python3",
   "language": "python",
   "display_name": "Python 3"
  }
 },
 "nbformat": 4,
 "nbformat_minor": 2,
 "cells": [
  {
   "source": [
    "# Build Classification Models"
   ],
   "cell_type": "markdown",
   "metadata": {}
  },
  {
   "cell_type": "code",
   "execution_count": 1,
   "outputs": [
    {
     "name": "stdout",
     "output_type": "stream",
     "text": [
      "   Unnamed: 0 cuisine  almond  angelica  anise  anise_seed  apple  \\\n",
      "0           0  indian       0         0      0           0      0   \n",
      "1           1  indian       1         0      0           0      0   \n",
      "2           2  indian       0         0      0           0      0   \n",
      "3           3  indian       0         0      0           0      0   \n",
      "4           4  indian       0         0      0           0      0   \n",
      "\n",
      "   apple_brandy  apricot  armagnac  ...  whiskey  white_bread  white_wine  \\\n",
      "0             0        0         0  ...        0            0           0   \n",
      "1             0        0         0  ...        0            0           0   \n",
      "2             0        0         0  ...        0            0           0   \n",
      "3             0        0         0  ...        0            0           0   \n",
      "4             0        0         0  ...        0            0           0   \n",
      "\n",
      "   whole_grain_wheat_flour  wine  wood  yam  yeast  yogurt  zucchini  \n",
      "0                        0     0     0    0      0       0         0  \n",
      "1                        0     0     0    0      0       0         0  \n",
      "2                        0     0     0    0      0       0         0  \n",
      "3                        0     0     0    0      0       0         0  \n",
      "4                        0     0     0    0      0       1         0  \n",
      "\n",
      "[5 rows x 382 columns]\n"
     ]
    }
   ],
   "source": [
    "import pandas as pd;\n",
    "\n",
    "raw_cuisines = pd.read_csv(\"../data/cleaned_cuisines.csv\")\n",
    "print(raw_cuisines.head())\n",
    "# split dataset to x and y.\n",
    "cuisine_y = raw_cuisines['cuisine']\n",
    "cuisine_X = raw_cuisines.drop(labels=['cuisine', 'Unnamed: 0'],axis=1)"
   ],
   "metadata": {
    "collapsed": false,
    "pycharm": {
     "name": "#%%\n"
    }
   }
  },
  {
   "cell_type": "code",
   "execution_count": 2,
   "outputs": [],
   "source": [
    "from sklearn.linear_model import LogisticRegression\n",
    "from sklearn.model_selection import train_test_split, cross_val_score\n",
    "from sklearn.metrics import accuracy_score,precision_score,confusion_matrix,classification_report, precision_recall_curve\n",
    "from sklearn.svm import SVC\n",
    "import numpy as np\n",
    "\n",
    "train_X, test_X, train_y, test_y = train_test_split(cuisine_X, cuisine_y, test_size=0.33, shuffle=True)"
   ],
   "metadata": {
    "collapsed": false,
    "pycharm": {
     "name": "#%%\n"
    }
   }
  },
  {
   "cell_type": "code",
   "execution_count": 3,
   "outputs": [
    {
     "name": "stdout",
     "output_type": "stream",
     "text": [
      "score:  0.8127369219105383\n"
     ]
    }
   ],
   "source": [
    "# how to choose solver,multi_class\n",
    "#对于少量的样本数据，'liblinear' 是很好的选择，而 'sag' 和 'saga' 对大量样本训练速度更快。\n",
    "#对于多分类问题，只有 'newton-cg'、'sag'、'saga' 和 'lbfgs' 能够处理多项损失，\n",
    "# 而 'liblinear' 面对多分类问题，得先把一种类别作为一个类别，剩余的所有类别作为另外一个类别,\n",
    "# 依次类推，遍历所有类别，进行分类(one over rest)。\n",
    "# solver=\"liblinear\",multi_class must be ovr or auto\n",
    "lr = LogisticRegression(solver='liblinear', multi_class='ovr')\n",
    "#flatten to 1-D array when needed.\n",
    "ravel = np.ravel(train_y)\n",
    "model = lr.fit(train_X, ravel)\n",
    "score = model.score(test_X, test_y)\n",
    "print('score: ', score)"
   ],
   "metadata": {
    "collapsed": false,
    "pycharm": {
     "name": "#%%\n"
    }
   }
  },
  {
   "cell_type": "code",
   "execution_count": 4,
   "outputs": [
    {
     "name": "stdout",
     "output_type": "stream",
     "text": [
      "score2:  0.8127369219105383\n"
     ]
    }
   ],
   "source": [
    "lr2 = LogisticRegression(solver='lbfgs', multi_class='auto')\n",
    "#flatten the array.\n",
    "ravel2 = np.ravel(train_y)\n",
    "model2 = lr.fit(train_X, ravel2)\n",
    "score2 = model2.score(test_X, test_y)\n",
    "print('score2: ', score2)"
   ],
   "metadata": {
    "collapsed": false,
    "pycharm": {
     "name": "#%%\n"
    }
   }
  },
  {
   "cell_type": "code",
   "execution_count": 5,
   "outputs": [
    {
     "data": {
      "text/plain": "              0         1         2         3         4         5     \\\nchinese   0.681026  0.006037  0.054750  0.021508  0.015203  0.266273   \nkorean    0.216744  0.005421  0.897924  0.068959  0.975072  0.074033   \njapanese  0.090768  0.000131  0.047169  0.821702  0.001239  0.552636   \nthai      0.006809  0.001469  0.000152  0.033921  0.002742  0.087882   \nindian    0.004653  0.986942  0.000005  0.053910  0.005745  0.019175   \n\n              6         7         8         9     ...      1309      1310  \\\nchinese   0.703008  0.411540  0.129276  0.078011  ...  0.950626  0.009735   \nkorean    0.128879  0.221046  0.273055  0.249340  ...  0.003217  0.000776   \njapanese  0.081007  0.170013  0.291186  0.105532  ...  0.012657  0.012072   \nthai      0.039698  0.197388  0.239277  0.161092  ...  0.029187  0.026979   \nindian    0.047407  0.000014  0.067207  0.406025  ...  0.004313  0.950438   \n\n              1311      1312      1313      1314      1315      1316  \\\nchinese   0.000220  0.727760  0.062950  0.076387  0.001871  0.747194   \nkorean    0.000182  0.002461  0.718099  0.017224  0.562230  0.010475   \njapanese  0.004212  0.257690  0.118601  0.901539  0.435812  0.017994   \nthai      0.523810  0.011008  0.060608  0.003125  0.000080  0.224328   \nindian    0.471575  0.001081  0.039742  0.001725  0.000007  0.000008   \n\n              1317      1318  \nchinese   0.879850  0.191736  \nkorean    0.034630  0.018997  \njapanese  0.048047  0.763615  \nthai      0.037366  0.017503  \nindian    0.000107  0.008149  \n\n[5 rows x 1319 columns]",
      "text/html": "<div>\n<style scoped>\n    .dataframe tbody tr th:only-of-type {\n        vertical-align: middle;\n    }\n\n    .dataframe tbody tr th {\n        vertical-align: top;\n    }\n\n    .dataframe thead th {\n        text-align: right;\n    }\n</style>\n<table border=\"1\" class=\"dataframe\">\n  <thead>\n    <tr style=\"text-align: right;\">\n      <th></th>\n      <th>0</th>\n      <th>1</th>\n      <th>2</th>\n      <th>3</th>\n      <th>4</th>\n      <th>5</th>\n      <th>6</th>\n      <th>7</th>\n      <th>8</th>\n      <th>9</th>\n      <th>...</th>\n      <th>1309</th>\n      <th>1310</th>\n      <th>1311</th>\n      <th>1312</th>\n      <th>1313</th>\n      <th>1314</th>\n      <th>1315</th>\n      <th>1316</th>\n      <th>1317</th>\n      <th>1318</th>\n    </tr>\n  </thead>\n  <tbody>\n    <tr>\n      <th>chinese</th>\n      <td>0.681026</td>\n      <td>0.006037</td>\n      <td>0.054750</td>\n      <td>0.021508</td>\n      <td>0.015203</td>\n      <td>0.266273</td>\n      <td>0.703008</td>\n      <td>0.411540</td>\n      <td>0.129276</td>\n      <td>0.078011</td>\n      <td>...</td>\n      <td>0.950626</td>\n      <td>0.009735</td>\n      <td>0.000220</td>\n      <td>0.727760</td>\n      <td>0.062950</td>\n      <td>0.076387</td>\n      <td>0.001871</td>\n      <td>0.747194</td>\n      <td>0.879850</td>\n      <td>0.191736</td>\n    </tr>\n    <tr>\n      <th>korean</th>\n      <td>0.216744</td>\n      <td>0.005421</td>\n      <td>0.897924</td>\n      <td>0.068959</td>\n      <td>0.975072</td>\n      <td>0.074033</td>\n      <td>0.128879</td>\n      <td>0.221046</td>\n      <td>0.273055</td>\n      <td>0.249340</td>\n      <td>...</td>\n      <td>0.003217</td>\n      <td>0.000776</td>\n      <td>0.000182</td>\n      <td>0.002461</td>\n      <td>0.718099</td>\n      <td>0.017224</td>\n      <td>0.562230</td>\n      <td>0.010475</td>\n      <td>0.034630</td>\n      <td>0.018997</td>\n    </tr>\n    <tr>\n      <th>japanese</th>\n      <td>0.090768</td>\n      <td>0.000131</td>\n      <td>0.047169</td>\n      <td>0.821702</td>\n      <td>0.001239</td>\n      <td>0.552636</td>\n      <td>0.081007</td>\n      <td>0.170013</td>\n      <td>0.291186</td>\n      <td>0.105532</td>\n      <td>...</td>\n      <td>0.012657</td>\n      <td>0.012072</td>\n      <td>0.004212</td>\n      <td>0.257690</td>\n      <td>0.118601</td>\n      <td>0.901539</td>\n      <td>0.435812</td>\n      <td>0.017994</td>\n      <td>0.048047</td>\n      <td>0.763615</td>\n    </tr>\n    <tr>\n      <th>thai</th>\n      <td>0.006809</td>\n      <td>0.001469</td>\n      <td>0.000152</td>\n      <td>0.033921</td>\n      <td>0.002742</td>\n      <td>0.087882</td>\n      <td>0.039698</td>\n      <td>0.197388</td>\n      <td>0.239277</td>\n      <td>0.161092</td>\n      <td>...</td>\n      <td>0.029187</td>\n      <td>0.026979</td>\n      <td>0.523810</td>\n      <td>0.011008</td>\n      <td>0.060608</td>\n      <td>0.003125</td>\n      <td>0.000080</td>\n      <td>0.224328</td>\n      <td>0.037366</td>\n      <td>0.017503</td>\n    </tr>\n    <tr>\n      <th>indian</th>\n      <td>0.004653</td>\n      <td>0.986942</td>\n      <td>0.000005</td>\n      <td>0.053910</td>\n      <td>0.005745</td>\n      <td>0.019175</td>\n      <td>0.047407</td>\n      <td>0.000014</td>\n      <td>0.067207</td>\n      <td>0.406025</td>\n      <td>...</td>\n      <td>0.004313</td>\n      <td>0.950438</td>\n      <td>0.471575</td>\n      <td>0.001081</td>\n      <td>0.039742</td>\n      <td>0.001725</td>\n      <td>0.000007</td>\n      <td>0.000008</td>\n      <td>0.000107</td>\n      <td>0.008149</td>\n    </tr>\n  </tbody>\n</table>\n<p>5 rows × 1319 columns</p>\n</div>"
     },
     "execution_count": 5,
     "metadata": {},
     "output_type": "execute_result"
    }
   ],
   "source": [
    "#probablity.\n",
    "proba = model.predict_proba(test_X)\n",
    "classes = model.classes_\n",
    "resultdf = pd.DataFrame(data=proba, columns=classes)\n",
    "top_result = resultdf.T.sort_values(by=0, ascending=False)\n",
    "top_result.head(5)"
   ],
   "metadata": {
    "collapsed": false,
    "pycharm": {
     "name": "#%%\n"
    }
   }
  },
  {
   "cell_type": "code",
   "execution_count": 6,
   "outputs": [
    {
     "name": "stdout",
     "output_type": "stream",
     "text": [
      "              precision    recall  f1-score   support\n",
      "\n",
      "     chinese       0.74      0.70      0.72       262\n",
      "      indian       0.95      0.89      0.92       274\n",
      "    japanese       0.75      0.79      0.77       265\n",
      "      korean       0.83      0.80      0.81       245\n",
      "        thai       0.80      0.88      0.84       273\n",
      "\n",
      "    accuracy                           0.81      1319\n",
      "   macro avg       0.81      0.81      0.81      1319\n",
      "weighted avg       0.81      0.81      0.81      1319\n",
      "\n"
     ]
    }
   ],
   "source": [
    "y_pred = model.predict(test_X)\n",
    "#every time execute the whole file, the report score is different,\n",
    "#train_test_split default shuffle the dataset before the splitting.\n",
    "print(classification_report(test_y,y_pred))"
   ],
   "metadata": {
    "collapsed": false,
    "pycharm": {
     "name": "#%%\n"
    }
   }
  }
 ]
}